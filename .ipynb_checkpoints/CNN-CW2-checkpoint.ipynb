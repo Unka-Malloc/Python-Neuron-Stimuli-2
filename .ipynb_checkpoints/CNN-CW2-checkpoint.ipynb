{
 "cells": [
  {
   "cell_type": "code",
   "execution_count": 1,
   "metadata": {},
   "outputs": [],
   "source": [
    "import numpy as np\n",
    "import pandas as pd\n",
    "from tqdm.auto import tqdm"
   ]
  },
  {
   "cell_type": "code",
   "execution_count": 2,
   "metadata": {
    "pycharm": {
     "name": "#%%\n"
    }
   },
   "outputs": [],
   "source": [
    "stai_scores = pd.read_csv(f'./data_2023/stai_scores.csv', header=None, names=['stai'])"
   ]
  },
  {
   "cell_type": "markdown",
   "metadata": {},
   "source": [
    "# Task (a)"
   ]
  },
  {
   "cell_type": "code",
   "execution_count": 3,
   "metadata": {},
   "outputs": [],
   "source": [
    "stai_mean = stai_scores.mean()\n",
    "\n",
    "stai_std = stai_scores.std()\n",
    "\n",
    "stai_median = stai_scores.median()"
   ]
  },
  {
   "cell_type": "code",
   "execution_count": 4,
   "metadata": {},
   "outputs": [
    {
     "data": {
      "text/plain": [
       "'stai mean: 42.72'"
      ]
     },
     "execution_count": 4,
     "metadata": {},
     "output_type": "execute_result"
    }
   ],
   "source": [
    "f\"stai mean: {float(stai_mean)}\""
   ]
  },
  {
   "cell_type": "code",
   "execution_count": 5,
   "metadata": {},
   "outputs": [
    {
     "data": {
      "text/plain": [
       "'stai std: 14.880531041654146'"
      ]
     },
     "execution_count": 5,
     "metadata": {},
     "output_type": "execute_result"
    }
   ],
   "source": [
    "f\"stai std: {float(stai_std)}\""
   ]
  },
  {
   "cell_type": "code",
   "execution_count": 6,
   "metadata": {},
   "outputs": [
    {
     "data": {
      "text/plain": [
       "'stai median: 40.0'"
      ]
     },
     "execution_count": 6,
     "metadata": {},
     "output_type": "execute_result"
    }
   ],
   "source": [
    "f\"stai median: {float(stai_median)}\""
   ]
  },
  {
   "cell_type": "code",
   "execution_count": 7,
   "metadata": {},
   "outputs": [
    {
     "data": {
      "text/html": [
       "<div>\n",
       "<style scoped>\n",
       "    .dataframe tbody tr th:only-of-type {\n",
       "        vertical-align: middle;\n",
       "    }\n",
       "\n",
       "    .dataframe tbody tr th {\n",
       "        vertical-align: top;\n",
       "    }\n",
       "\n",
       "    .dataframe thead th {\n",
       "        text-align: right;\n",
       "    }\n",
       "</style>\n",
       "<table border=\"1\" class=\"dataframe\">\n",
       "  <thead>\n",
       "    <tr style=\"text-align: right;\">\n",
       "      <th></th>\n",
       "      <th>stai</th>\n",
       "    </tr>\n",
       "  </thead>\n",
       "  <tbody>\n",
       "    <tr>\n",
       "      <th>0</th>\n",
       "      <td>65</td>\n",
       "    </tr>\n",
       "    <tr>\n",
       "      <th>1</th>\n",
       "      <td>46</td>\n",
       "    </tr>\n",
       "    <tr>\n",
       "      <th>2</th>\n",
       "      <td>61</td>\n",
       "    </tr>\n",
       "    <tr>\n",
       "      <th>4</th>\n",
       "      <td>51</td>\n",
       "    </tr>\n",
       "    <tr>\n",
       "      <th>5</th>\n",
       "      <td>48</td>\n",
       "    </tr>\n",
       "    <tr>\n",
       "      <th>6</th>\n",
       "      <td>65</td>\n",
       "    </tr>\n",
       "    <tr>\n",
       "      <th>7</th>\n",
       "      <td>47</td>\n",
       "    </tr>\n",
       "    <tr>\n",
       "      <th>8</th>\n",
       "      <td>63</td>\n",
       "    </tr>\n",
       "    <tr>\n",
       "      <th>9</th>\n",
       "      <td>57</td>\n",
       "    </tr>\n",
       "    <tr>\n",
       "      <th>10</th>\n",
       "      <td>73</td>\n",
       "    </tr>\n",
       "    <tr>\n",
       "      <th>11</th>\n",
       "      <td>63</td>\n",
       "    </tr>\n",
       "    <tr>\n",
       "      <th>12</th>\n",
       "      <td>48</td>\n",
       "    </tr>\n",
       "    <tr>\n",
       "      <th>13</th>\n",
       "      <td>62</td>\n",
       "    </tr>\n",
       "    <tr>\n",
       "      <th>14</th>\n",
       "      <td>67</td>\n",
       "    </tr>\n",
       "    <tr>\n",
       "      <th>16</th>\n",
       "      <td>43</td>\n",
       "    </tr>\n",
       "    <tr>\n",
       "      <th>17</th>\n",
       "      <td>67</td>\n",
       "    </tr>\n",
       "    <tr>\n",
       "      <th>18</th>\n",
       "      <td>46</td>\n",
       "    </tr>\n",
       "    <tr>\n",
       "      <th>19</th>\n",
       "      <td>66</td>\n",
       "    </tr>\n",
       "    <tr>\n",
       "      <th>20</th>\n",
       "      <td>47</td>\n",
       "    </tr>\n",
       "    <tr>\n",
       "      <th>21</th>\n",
       "      <td>63</td>\n",
       "    </tr>\n",
       "    <tr>\n",
       "      <th>22</th>\n",
       "      <td>60</td>\n",
       "    </tr>\n",
       "    <tr>\n",
       "      <th>23</th>\n",
       "      <td>51</td>\n",
       "    </tr>\n",
       "  </tbody>\n",
       "</table>\n",
       "</div>"
      ],
      "text/plain": [
       "    stai\n",
       "0     65\n",
       "1     46\n",
       "2     61\n",
       "4     51\n",
       "5     48\n",
       "6     65\n",
       "7     47\n",
       "8     63\n",
       "9     57\n",
       "10    73\n",
       "11    63\n",
       "12    48\n",
       "13    62\n",
       "14    67\n",
       "16    43\n",
       "17    67\n",
       "18    46\n",
       "19    66\n",
       "20    47\n",
       "21    63\n",
       "22    60\n",
       "23    51"
      ]
     },
     "execution_count": 7,
     "metadata": {},
     "output_type": "execute_result"
    }
   ],
   "source": [
    "cutoff = 43\n",
    "\n",
    "illnes = stai_scores[stai_scores.stai >= cutoff]\n",
    "\n",
    "illnes"
   ]
  },
  {
   "cell_type": "code",
   "execution_count": 8,
   "metadata": {},
   "outputs": [
    {
     "data": {
      "text/plain": [
       "[0, 1, 2, 4, 5, 6, 7, 8, 9, 10, 11, 12, 13, 14, 16, 17, 18, 19, 20, 21, 22, 23]"
      ]
     },
     "execution_count": 8,
     "metadata": {},
     "output_type": "execute_result"
    }
   ],
   "source": [
    "list(illnes.index)"
   ]
  },
  {
   "cell_type": "code",
   "execution_count": 9,
   "metadata": {},
   "outputs": [
    {
     "data": {
      "text/plain": [
       "[3, 15, 24, 25]"
      ]
     },
     "execution_count": 9,
     "metadata": {},
     "output_type": "execute_result"
    }
   ],
   "source": [
    "[i for i in range(26) if i not in list(illnes.index)]"
   ]
  },
  {
   "cell_type": "code",
   "execution_count": 10,
   "metadata": {},
   "outputs": [],
   "source": [
    "inst_choices = pd.read_csv(f'./data_2023/inst_choices.csv', header=None)"
   ]
  },
  {
   "cell_type": "code",
   "execution_count": 11,
   "metadata": {},
   "outputs": [],
   "source": [
    "choice_count = inst_choices.apply(lambda x: x.value_counts(), axis=1)\n",
    "\n",
    "A_count = choice_count[1]\n",
    "B_count = choice_count[2]"
   ]
  },
  {
   "cell_type": "code",
   "execution_count": 12,
   "metadata": {},
   "outputs": [
    {
     "data": {
      "text/plain": [
       "34.46"
      ]
     },
     "execution_count": 12,
     "metadata": {},
     "output_type": "execute_result"
    }
   ],
   "source": [
    "A_count.mean()"
   ]
  },
  {
   "cell_type": "code",
   "execution_count": 13,
   "metadata": {},
   "outputs": [
    {
     "data": {
      "text/plain": [
       "2    128\n",
       "1     32\n",
       "Name: 2, dtype: int64"
      ]
     },
     "execution_count": 13,
     "metadata": {},
     "output_type": "execute_result"
    }
   ],
   "source": [
    "choice_count.iloc[2]"
   ]
  },
  {
   "cell_type": "markdown",
   "metadata": {},
   "source": [
    "# Task (b)"
   ]
  },
  {
   "cell_type": "code",
   "execution_count": 14,
   "metadata": {},
   "outputs": [],
   "source": [
    "def V(v_t, a, o):\n",
    "    return v_t + a * (o - v_t)"
   ]
  },
  {
   "cell_type": "code",
   "execution_count": 15,
   "metadata": {},
   "outputs": [],
   "source": [
    "def p(v_a, v_b, b):\n",
    "    return np.exp((-b) * v_a) / ((np.exp((-b) * v_a)) + (np.exp((-b) * v_b)))"
   ]
  },
  {
   "cell_type": "code",
   "execution_count": 16,
   "metadata": {},
   "outputs": [],
   "source": [
    "def change_state(last_state):\n",
    "    if last_state == (0.7, 0.3):\n",
    "        return (0.8, 0.2)\n",
    "    elif last_state == (0.8, 0.2):\n",
    "        return (0.6, 0.4)\n",
    "    elif last_state == (0.6, 0.4):\n",
    "        return (0.65, 0.35)\n",
    "    elif last_state == (0.65, 0.35):\n",
    "        return (0.7, 0.3)\n",
    "    else:\n",
    "        raise ValueError(f'Unexpected {last_state}')"
   ]
  },
  {
   "cell_type": "code",
   "execution_count": 17,
   "metadata": {},
   "outputs": [],
   "source": [
    "alpha = 0.4\n",
    "beta = 7"
   ]
  },
  {
   "cell_type": "code",
   "execution_count": 18,
   "metadata": {},
   "outputs": [],
   "source": [
    "def generate_stimuli(alpha, beta):\n",
    "    state = (0.7, 0.3)\n",
    "\n",
    "    num = 160\n",
    "\n",
    "    sim_choice = np.zeros(num)\n",
    "    sim_outcome = np.zeros(num)\n",
    "\n",
    "    V_A = 0.5\n",
    "    V_B = 0.5\n",
    "\n",
    "    for t in range(num):\n",
    "        if (t + 1) % 40 == 0:\n",
    "            state = change_state(state)\n",
    "\n",
    "        p_A = p(V_A, V_B, beta)\n",
    "\n",
    "        choice = 1 if np.random.rand() < p_A else 2\n",
    "\n",
    "        check = np.random.rand()\n",
    "        thres = state[0]\n",
    "\n",
    "        outcome = int(check < thres) if choice == 1 else int(check > thres)\n",
    "\n",
    "    #     print(f\"c: {'A' if choice == 1 else 'B'}, o: {'-' if outcome == 0 else 'aversive'}\")\n",
    "\n",
    "        sim_choice[t] = choice\n",
    "        sim_outcome[t] = outcome\n",
    "\n",
    "        V_A = V(V_A, alpha, outcome) if choice == 1 else V_A\n",
    "        V_B = V(V_B, alpha, outcome) if choice == 2 else V_B\n",
    "    \n",
    "    return sim_outcome"
   ]
  },
  {
   "cell_type": "code",
   "execution_count": 19,
   "metadata": {},
   "outputs": [
    {
     "data": {
      "text/plain": [
       "57.34290564701987"
      ]
     },
     "execution_count": 19,
     "metadata": {},
     "output_type": "execute_result"
    }
   ],
   "source": [
    "avg_aversive = 0\n",
    "\n",
    "for i in range(0, 1000):\n",
    "    avg_aversive = (avg_aversive + generate_stimuli(alpha, beta)[0: 160].sum()) / 2\n",
    "    \n",
    "avg_aversive"
   ]
  },
  {
   "cell_type": "markdown",
   "metadata": {},
   "source": [
    "# Task (c)"
   ]
  },
  {
   "cell_type": "code",
   "execution_count": 20,
   "metadata": {},
   "outputs": [],
   "source": [
    "inst_outcomes = pd.read_csv(f'./data_2023/inst_outcomes.csv', header=None)"
   ]
  },
  {
   "cell_type": "code",
   "execution_count": 21,
   "metadata": {},
   "outputs": [
    {
     "data": {
      "text/plain": [
       "61.54"
      ]
     },
     "execution_count": 21,
     "metadata": {},
     "output_type": "execute_result"
    }
   ],
   "source": [
    "outcomes_count = inst_outcomes.apply(lambda x: x.value_counts(), axis=1)\n",
    "\n",
    "real_aversive_mean = outcomes_count[1].mean()\n",
    "\n",
    "real_aversive_mean"
   ]
  },
  {
   "cell_type": "code",
   "execution_count": 22,
   "metadata": {},
   "outputs": [],
   "source": [
    "def get_mean(alpha, beta):\n",
    "    avg_aversive = 0\n",
    "\n",
    "    for i in range(0, 1000):\n",
    "        avg_aversive = (avg_aversive + generate_stimuli(alpha, beta)[0: 160].sum()) / 2\n",
    "\n",
    "    return avg_aversive"
   ]
  },
  {
   "cell_type": "code",
   "execution_count": 23,
   "metadata": {},
   "outputs": [],
   "source": [
    "def get_mse(a, b):\n",
    "    mse = 0.0\n",
    "\n",
    "    for i in range(10):\n",
    "\n",
    "        mse += np.sqrt((get_mean(a, b) - real_aversive_mean) ** 2)\n",
    "\n",
    "    mse = mse / 10\n",
    "\n",
    "    return mse"
   ]
  },
  {
   "cell_type": "code",
   "execution_count": 24,
   "metadata": {},
   "outputs": [
    {
     "data": {
      "application/vnd.jupyter.widget-view+json": {
       "model_id": "e0c62ee8aa7f4f289d7ff8f9c9fc1b3a",
       "version_major": 2,
       "version_minor": 0
      },
      "text/plain": [
       "  0%|          | 0/10 [00:00<?, ?it/s]"
      ]
     },
     "metadata": {},
     "output_type": "display_data"
    },
    {
     "data": {
      "application/vnd.jupyter.widget-view+json": {
       "model_id": "1edef493e6a04bafbeaa36703d55114e",
       "version_major": 2,
       "version_minor": 0
      },
      "text/plain": [
       "  0%|          | 0/9 [00:00<?, ?it/s]"
      ]
     },
     "metadata": {},
     "output_type": "display_data"
    },
    {
     "data": {
      "application/vnd.jupyter.widget-view+json": {
       "model_id": "df1d7f24b42b41f8b2d38c76285639fa",
       "version_major": 2,
       "version_minor": 0
      },
      "text/plain": [
       "  0%|          | 0/9 [00:00<?, ?it/s]"
      ]
     },
     "metadata": {},
     "output_type": "display_data"
    },
    {
     "data": {
      "application/vnd.jupyter.widget-view+json": {
       "model_id": "6bcff2a125b74a44804c4cedb937ba15",
       "version_major": 2,
       "version_minor": 0
      },
      "text/plain": [
       "  0%|          | 0/9 [00:00<?, ?it/s]"
      ]
     },
     "metadata": {},
     "output_type": "display_data"
    },
    {
     "data": {
      "application/vnd.jupyter.widget-view+json": {
       "model_id": "400ee7a6172245459c05e0218e5a7abc",
       "version_major": 2,
       "version_minor": 0
      },
      "text/plain": [
       "  0%|          | 0/9 [00:00<?, ?it/s]"
      ]
     },
     "metadata": {},
     "output_type": "display_data"
    },
    {
     "data": {
      "application/vnd.jupyter.widget-view+json": {
       "model_id": "e0e2117649c442e189a928ad2dfd3116",
       "version_major": 2,
       "version_minor": 0
      },
      "text/plain": [
       "  0%|          | 0/9 [00:00<?, ?it/s]"
      ]
     },
     "metadata": {},
     "output_type": "display_data"
    },
    {
     "data": {
      "application/vnd.jupyter.widget-view+json": {
       "model_id": "5ef5fc8b04cd4e9bb72ece2b23a2de51",
       "version_major": 2,
       "version_minor": 0
      },
      "text/plain": [
       "  0%|          | 0/9 [00:00<?, ?it/s]"
      ]
     },
     "metadata": {},
     "output_type": "display_data"
    },
    {
     "data": {
      "application/vnd.jupyter.widget-view+json": {
       "model_id": "385397fb746444a1bfebcf489d14c75c",
       "version_major": 2,
       "version_minor": 0
      },
      "text/plain": [
       "  0%|          | 0/9 [00:00<?, ?it/s]"
      ]
     },
     "metadata": {},
     "output_type": "display_data"
    },
    {
     "data": {
      "application/vnd.jupyter.widget-view+json": {
       "model_id": "d3cb5b9333aa4746bad43f24e8acac7c",
       "version_major": 2,
       "version_minor": 0
      },
      "text/plain": [
       "  0%|          | 0/9 [00:00<?, ?it/s]"
      ]
     },
     "metadata": {},
     "output_type": "display_data"
    },
    {
     "data": {
      "application/vnd.jupyter.widget-view+json": {
       "model_id": "6b5a12991e0c48f4a851ce2770b91e7c",
       "version_major": 2,
       "version_minor": 0
      },
      "text/plain": [
       "  0%|          | 0/9 [00:00<?, ?it/s]"
      ]
     },
     "metadata": {},
     "output_type": "display_data"
    },
    {
     "data": {
      "application/vnd.jupyter.widget-view+json": {
       "model_id": "4fc6d8d35e8b4bb2a3ea6098c4b171f2",
       "version_major": 2,
       "version_minor": 0
      },
      "text/plain": [
       "  0%|          | 0/9 [00:00<?, ?it/s]"
      ]
     },
     "metadata": {},
     "output_type": "display_data"
    },
    {
     "name": "stdout",
     "output_type": "stream",
     "text": [
      "2.0944430356620685\n",
      "(0.5, 4)\n"
     ]
    }
   ],
   "source": [
    "results = {}\n",
    "\n",
    "min_mse = None\n",
    "min_index = None\n",
    "\n",
    "for i in tqdm(np.arange(0, 1, 0.1)):\n",
    "    for j in tqdm(np.arange(1, 10, 1)):\n",
    "        tmp_res = get_mse(i, j) \n",
    "        \n",
    "        if min_mse is None:\n",
    "            min_mse = tmp_res\n",
    "            min_index = (i, j)\n",
    "        else:\n",
    "            if min_mse > tmp_res:\n",
    "                min_mse = tmp_res\n",
    "                min_index = (i, j)\n",
    "        \n",
    "        results[(i, j)] = tmp_res\n",
    "        \n",
    "print(min_mse)\n",
    "print(min_index)"
   ]
  },
  {
   "cell_type": "markdown",
   "metadata": {},
   "source": [
    "# Task (d)"
   ]
  },
  {
   "cell_type": "code",
   "execution_count": 85,
   "metadata": {},
   "outputs": [],
   "source": [
    "def NLL(index):\n",
    "    alpha = 0.4\n",
    "    beta = 7\n",
    "\n",
    "    state = (0.7, 0.3)\n",
    "\n",
    "    V_A = 0.5\n",
    "    V_B = 0.5\n",
    "\n",
    "    value = 0.0\n",
    "\n",
    "    for t in range(160):\n",
    "        if (t + 1) % 40 == 0:\n",
    "            state = change_state(state)\n",
    "\n",
    "    #     print(f't: {t}, c: {inst_choices.iloc[patient_index][t]}, o: {inst_outcomes.iloc[patient_index][t]}')\n",
    "        \n",
    "        choice = inst_choices.iloc[index][t]\n",
    "        \n",
    "        value += np.log(p(V_A, V_B, beta)) if choice == 1 else np.log(p(V_B, V_A, beta))\n",
    "\n",
    "        if choice == 1:\n",
    "            V_A = V(V_A, alpha, inst_outcomes.iloc[index][t])\n",
    "        elif choice == 2:\n",
    "            V_B = V(V_B, alpha, inst_outcomes.iloc[index][t])\n",
    "        else:\n",
    "            raise ValueError(f'Unexpected choice {choice}')\n",
    "\n",
    "    value = - value\n",
    "\n",
    "    return value"
   ]
  },
  {
   "cell_type": "code",
   "execution_count": 88,
   "metadata": {},
   "outputs": [
    {
     "data": {
      "text/plain": [
       "93.79738515784688"
      ]
     },
     "execution_count": 88,
     "metadata": {},
     "output_type": "execute_result"
    }
   ],
   "source": [
    "NLL(8)"
   ]
  },
  {
   "cell_type": "code",
   "execution_count": null,
   "metadata": {},
   "outputs": [],
   "source": []
  }
 ],
 "metadata": {
  "kernelspec": {
   "display_name": "Python 3 (ipykernel)",
   "language": "python",
   "name": "python3"
  },
  "language_info": {
   "codemirror_mode": {
    "name": "ipython",
    "version": 3
   },
   "file_extension": ".py",
   "mimetype": "text/x-python",
   "name": "python",
   "nbconvert_exporter": "python",
   "pygments_lexer": "ipython3",
   "version": "3.10.10"
  }
 },
 "nbformat": 4,
 "nbformat_minor": 1
}
