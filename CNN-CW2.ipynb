{
 "cells": [
  {
   "cell_type": "code",
   "execution_count": 1,
   "metadata": {},
   "outputs": [],
   "source": [
    "import numpy as np\n",
    "import pandas as pd\n",
    "from scipy import stats\n",
    "from tqdm.auto import tqdm"
   ]
  },
  {
   "cell_type": "code",
   "execution_count": 2,
   "metadata": {
    "pycharm": {
     "name": "#%%\n"
    }
   },
   "outputs": [],
   "source": [
    "stai_scores = pd.read_csv(f'./data_2023/stai_scores.csv', header=None, names=['stai'])"
   ]
  },
  {
   "cell_type": "markdown",
   "metadata": {},
   "source": [
    "# Task (a)"
   ]
  },
  {
   "cell_type": "code",
   "execution_count": 3,
   "metadata": {},
   "outputs": [],
   "source": [
    "stai_mean = stai_scores.mean()\n",
    "\n",
    "stai_std = stai_scores.std()\n",
    "\n",
    "stai_median = stai_scores.median()"
   ]
  },
  {
   "cell_type": "code",
   "execution_count": 4,
   "metadata": {},
   "outputs": [
    {
     "data": {
      "text/plain": [
       "'stai mean: 42.72'"
      ]
     },
     "execution_count": 4,
     "metadata": {},
     "output_type": "execute_result"
    }
   ],
   "source": [
    "f\"stai mean: {float(stai_mean)}\""
   ]
  },
  {
   "cell_type": "code",
   "execution_count": 5,
   "metadata": {},
   "outputs": [
    {
     "data": {
      "text/plain": [
       "'stai std: 14.880531041654146'"
      ]
     },
     "execution_count": 5,
     "metadata": {},
     "output_type": "execute_result"
    }
   ],
   "source": [
    "f\"stai std: {float(stai_std)}\""
   ]
  },
  {
   "cell_type": "code",
   "execution_count": 6,
   "metadata": {},
   "outputs": [
    {
     "data": {
      "text/plain": [
       "'stai median: 40.0'"
      ]
     },
     "execution_count": 6,
     "metadata": {},
     "output_type": "execute_result"
    }
   ],
   "source": [
    "f\"stai median: {float(stai_median)}\""
   ]
  },
  {
   "cell_type": "code",
   "execution_count": 7,
   "metadata": {},
   "outputs": [
    {
     "data": {
      "text/html": [
       "<div>\n",
       "<style scoped>\n",
       "    .dataframe tbody tr th:only-of-type {\n",
       "        vertical-align: middle;\n",
       "    }\n",
       "\n",
       "    .dataframe tbody tr th {\n",
       "        vertical-align: top;\n",
       "    }\n",
       "\n",
       "    .dataframe thead th {\n",
       "        text-align: right;\n",
       "    }\n",
       "</style>\n",
       "<table border=\"1\" class=\"dataframe\">\n",
       "  <thead>\n",
       "    <tr style=\"text-align: right;\">\n",
       "      <th></th>\n",
       "      <th>stai</th>\n",
       "    </tr>\n",
       "  </thead>\n",
       "  <tbody>\n",
       "    <tr>\n",
       "      <th>0</th>\n",
       "      <td>65</td>\n",
       "    </tr>\n",
       "    <tr>\n",
       "      <th>1</th>\n",
       "      <td>46</td>\n",
       "    </tr>\n",
       "    <tr>\n",
       "      <th>2</th>\n",
       "      <td>61</td>\n",
       "    </tr>\n",
       "    <tr>\n",
       "      <th>4</th>\n",
       "      <td>51</td>\n",
       "    </tr>\n",
       "    <tr>\n",
       "      <th>5</th>\n",
       "      <td>48</td>\n",
       "    </tr>\n",
       "    <tr>\n",
       "      <th>6</th>\n",
       "      <td>65</td>\n",
       "    </tr>\n",
       "    <tr>\n",
       "      <th>7</th>\n",
       "      <td>47</td>\n",
       "    </tr>\n",
       "    <tr>\n",
       "      <th>8</th>\n",
       "      <td>63</td>\n",
       "    </tr>\n",
       "    <tr>\n",
       "      <th>9</th>\n",
       "      <td>57</td>\n",
       "    </tr>\n",
       "    <tr>\n",
       "      <th>10</th>\n",
       "      <td>73</td>\n",
       "    </tr>\n",
       "    <tr>\n",
       "      <th>11</th>\n",
       "      <td>63</td>\n",
       "    </tr>\n",
       "    <tr>\n",
       "      <th>12</th>\n",
       "      <td>48</td>\n",
       "    </tr>\n",
       "    <tr>\n",
       "      <th>13</th>\n",
       "      <td>62</td>\n",
       "    </tr>\n",
       "    <tr>\n",
       "      <th>14</th>\n",
       "      <td>67</td>\n",
       "    </tr>\n",
       "    <tr>\n",
       "      <th>16</th>\n",
       "      <td>43</td>\n",
       "    </tr>\n",
       "    <tr>\n",
       "      <th>17</th>\n",
       "      <td>67</td>\n",
       "    </tr>\n",
       "    <tr>\n",
       "      <th>18</th>\n",
       "      <td>46</td>\n",
       "    </tr>\n",
       "    <tr>\n",
       "      <th>19</th>\n",
       "      <td>66</td>\n",
       "    </tr>\n",
       "    <tr>\n",
       "      <th>20</th>\n",
       "      <td>47</td>\n",
       "    </tr>\n",
       "    <tr>\n",
       "      <th>21</th>\n",
       "      <td>63</td>\n",
       "    </tr>\n",
       "    <tr>\n",
       "      <th>22</th>\n",
       "      <td>60</td>\n",
       "    </tr>\n",
       "    <tr>\n",
       "      <th>23</th>\n",
       "      <td>51</td>\n",
       "    </tr>\n",
       "  </tbody>\n",
       "</table>\n",
       "</div>"
      ],
      "text/plain": [
       "    stai\n",
       "0     65\n",
       "1     46\n",
       "2     61\n",
       "4     51\n",
       "5     48\n",
       "6     65\n",
       "7     47\n",
       "8     63\n",
       "9     57\n",
       "10    73\n",
       "11    63\n",
       "12    48\n",
       "13    62\n",
       "14    67\n",
       "16    43\n",
       "17    67\n",
       "18    46\n",
       "19    66\n",
       "20    47\n",
       "21    63\n",
       "22    60\n",
       "23    51"
      ]
     },
     "execution_count": 7,
     "metadata": {},
     "output_type": "execute_result"
    }
   ],
   "source": [
    "cutoff = 43\n",
    "\n",
    "illnes = stai_scores[stai_scores.stai >= cutoff]\n",
    "\n",
    "illnes"
   ]
  },
  {
   "cell_type": "code",
   "execution_count": 8,
   "metadata": {},
   "outputs": [
    {
     "data": {
      "text/plain": [
       "[0, 1, 2, 4, 5, 6, 7, 8, 9, 10, 11, 12, 13, 14, 16, 17, 18, 19, 20, 21, 22, 23]"
      ]
     },
     "execution_count": 8,
     "metadata": {},
     "output_type": "execute_result"
    }
   ],
   "source": [
    "list(illnes.index)"
   ]
  },
  {
   "cell_type": "code",
   "execution_count": 9,
   "metadata": {},
   "outputs": [
    {
     "data": {
      "text/plain": [
       "22"
      ]
     },
     "execution_count": 9,
     "metadata": {},
     "output_type": "execute_result"
    }
   ],
   "source": [
    "len(list(illnes.index))"
   ]
  },
  {
   "cell_type": "code",
   "execution_count": 70,
   "metadata": {},
   "outputs": [
    {
     "name": "stdout",
     "output_type": "stream",
     "text": [
      "healthy\n"
     ]
    },
    {
     "data": {
      "text/plain": [
       "'[3, 15, 24, 25, 26, 27, 28, 29, 30, 31, 32, 33, 34, 35, 36, 37, 38, 39, 40, 41, 42, 43, 44, 45, 46, 47, 48, 49]'"
      ]
     },
     "execution_count": 70,
     "metadata": {},
     "output_type": "execute_result"
    }
   ],
   "source": [
    "print('healthy')\n",
    "str(list(stai_scores[stai_scores.stai < cutoff].index))"
   ]
  },
  {
   "cell_type": "code",
   "execution_count": 11,
   "metadata": {},
   "outputs": [
    {
     "data": {
      "text/plain": [
       "[3, 15, 24]"
      ]
     },
     "execution_count": 11,
     "metadata": {},
     "output_type": "execute_result"
    }
   ],
   "source": [
    "[i for i in range(25) if i not in list(illnes.index)]"
   ]
  },
  {
   "cell_type": "code",
   "execution_count": 12,
   "metadata": {},
   "outputs": [],
   "source": [
    "inst_choices = pd.read_csv(f'./data_2023/inst_choices.csv', header=None)"
   ]
  },
  {
   "cell_type": "code",
   "execution_count": 13,
   "metadata": {},
   "outputs": [],
   "source": [
    "choice_count = inst_choices.apply(lambda x: x.value_counts(), axis=1)\n",
    "\n",
    "A_count = choice_count[1]\n",
    "B_count = choice_count[2]"
   ]
  },
  {
   "cell_type": "code",
   "execution_count": 69,
   "metadata": {},
   "outputs": [
    {
     "data": {
      "text/plain": [
       "0     52\n",
       "1     46\n",
       "2     32\n",
       "3     58\n",
       "4     37\n",
       "5     26\n",
       "6     28\n",
       "7     50\n",
       "8     38\n",
       "9     51\n",
       "10    53\n",
       "11    30\n",
       "12    31\n",
       "13    41\n",
       "14    36\n",
       "15    33\n",
       "16    41\n",
       "17    41\n",
       "18    28\n",
       "19    37\n",
       "20    53\n",
       "21    33\n",
       "22    40\n",
       "23    67\n",
       "24    31\n",
       "25    45\n",
       "26    29\n",
       "27     6\n",
       "28    25\n",
       "29     7\n",
       "30    12\n",
       "31    29\n",
       "32    21\n",
       "33    29\n",
       "34    16\n",
       "35    36\n",
       "36    39\n",
       "37    27\n",
       "38    41\n",
       "39    25\n",
       "40    39\n",
       "41    28\n",
       "42    29\n",
       "43    36\n",
       "44    45\n",
       "45    24\n",
       "46    16\n",
       "47    53\n",
       "48    31\n",
       "49    22\n",
       "Name: 1, dtype: int64"
      ]
     },
     "execution_count": 69,
     "metadata": {},
     "output_type": "execute_result"
    }
   ],
   "source": [
    "A_count"
   ]
  },
  {
   "cell_type": "code",
   "execution_count": 14,
   "metadata": {},
   "outputs": [
    {
     "data": {
      "text/plain": [
       "34.46"
      ]
     },
     "execution_count": 14,
     "metadata": {},
     "output_type": "execute_result"
    }
   ],
   "source": [
    "A_count.mean()"
   ]
  },
  {
   "cell_type": "code",
   "execution_count": 89,
   "metadata": {},
   "outputs": [
    {
     "data": {
      "text/plain": [
       "125.54"
      ]
     },
     "execution_count": 89,
     "metadata": {},
     "output_type": "execute_result"
    }
   ],
   "source": [
    "B_count.mean()"
   ]
  },
  {
   "cell_type": "code",
   "execution_count": 15,
   "metadata": {},
   "outputs": [
    {
     "data": {
      "text/plain": [
       "2    128\n",
       "1     32\n",
       "Name: 2, dtype: int64"
      ]
     },
     "execution_count": 15,
     "metadata": {},
     "output_type": "execute_result"
    }
   ],
   "source": [
    "choice_count.iloc[2]"
   ]
  },
  {
   "cell_type": "code",
   "execution_count": 66,
   "metadata": {},
   "outputs": [
    {
     "data": {
      "text/plain": [
       "80.0"
      ]
     },
     "execution_count": 66,
     "metadata": {},
     "output_type": "execute_result"
    }
   ],
   "source": [
    "20 * 0.7 + 20 * 0.3 + 20 * 0.8 + 20 * 0.2 + 20 * 0.6 + 20 * 0.4 + 20 * 0.65 + 20 * 0.35"
   ]
  },
  {
   "cell_type": "code",
   "execution_count": 67,
   "metadata": {},
   "outputs": [],
   "source": [
    "inst_outcomes = pd.read_csv(f'./data_2023/inst_outcomes.csv', header=None)\n",
    "\n",
    "outcomes_count = inst_outcomes.apply(lambda x: x.value_counts(), axis=1)\n",
    "\n",
    "aversive_count = outcomes_count[1]"
   ]
  },
  {
   "cell_type": "code",
   "execution_count": 68,
   "metadata": {},
   "outputs": [
    {
     "data": {
      "text/plain": [
       "61.54"
      ]
     },
     "execution_count": 68,
     "metadata": {},
     "output_type": "execute_result"
    }
   ],
   "source": [
    "aversive_count.mean()"
   ]
  },
  {
   "cell_type": "markdown",
   "metadata": {},
   "source": [
    "# Task (b)"
   ]
  },
  {
   "cell_type": "code",
   "execution_count": 16,
   "metadata": {},
   "outputs": [],
   "source": [
    "def get_V(v_t, a, o):\n",
    "    return v_t + a * (o - v_t)"
   ]
  },
  {
   "cell_type": "code",
   "execution_count": 17,
   "metadata": {},
   "outputs": [],
   "source": [
    "def get_p(v_a, v_b, b):\n",
    "    return np.exp((-b) * v_a) / ((np.exp((-b) * v_a)) + (np.exp((-b) * v_b)))"
   ]
  },
  {
   "cell_type": "code",
   "execution_count": 18,
   "metadata": {},
   "outputs": [],
   "source": [
    "def change_state(last_state):\n",
    "    if last_state == (0.7, 0.3):\n",
    "        return (0.8, 0.2)\n",
    "    elif last_state == (0.8, 0.2):\n",
    "        return (0.6, 0.4)\n",
    "    elif last_state == (0.6, 0.4):\n",
    "        return (0.65, 0.35)\n",
    "    elif last_state == (0.65, 0.35):\n",
    "        return (0.7, 0.3)\n",
    "    else:\n",
    "        raise ValueError(f'Unexpected {last_state}')"
   ]
  },
  {
   "cell_type": "code",
   "execution_count": 19,
   "metadata": {},
   "outputs": [],
   "source": [
    "alpha = 0.4\n",
    "beta = 7"
   ]
  },
  {
   "cell_type": "code",
   "execution_count": 83,
   "metadata": {},
   "outputs": [],
   "source": [
    "sim_VA = np.zeros(160)\n",
    "sim_VB = np.zeros(160)\n",
    "\n",
    "def generate_stimuli(alpha, beta):\n",
    "    state = (0.7, 0.3)\n",
    "\n",
    "    num = 160\n",
    "\n",
    "    sim_choice = np.zeros(num)\n",
    "    sim_outcome = np.zeros(num)\n",
    "\n",
    "    V_A = 0.5\n",
    "    V_B = 0.5\n",
    "\n",
    "    for t in range(num):\n",
    "        if (t + 1) % 40 == 0:\n",
    "            state = change_state(state)\n",
    "            \n",
    "        sim_VA[t] = V_A\n",
    "        sim_VB[t] = V_B\n",
    "\n",
    "        p_A = get_p(V_A, V_B, beta)\n",
    "\n",
    "        choice = 1 if np.random.rand() < p_A else 2\n",
    "\n",
    "        check = np.random.rand()\n",
    "        thres = state[0]\n",
    "\n",
    "        outcome = int(check < thres) if choice == 1 else int(check > thres)\n",
    "\n",
    "    #     print(f\"c: {'A' if choice == 1 else 'B'}, o: {'-' if outcome == 0 else 'aversive'}\")\n",
    "\n",
    "        sim_choice[t] = choice\n",
    "        sim_outcome[t] = outcome\n",
    "\n",
    "        V_A = get_V(V_A, alpha, outcome) if choice == 1 else V_A\n",
    "        V_B = get_V(V_B, alpha, outcome) if choice == 2 else V_B\n",
    "    \n",
    "    return sim_outcome"
   ]
  },
  {
   "cell_type": "code",
   "execution_count": 84,
   "metadata": {},
   "outputs": [
    {
     "data": {
      "text/plain": [
       "56.61268243426291"
      ]
     },
     "execution_count": 84,
     "metadata": {},
     "output_type": "execute_result"
    }
   ],
   "source": [
    "avg_aversive = 0\n",
    "\n",
    "for i in range(0, 1000):\n",
    "    avg_aversive = (avg_aversive + generate_stimuli(alpha, beta)[0: 160].sum()) / 2\n",
    "    \n",
    "avg_aversive"
   ]
  },
  {
   "cell_type": "code",
   "execution_count": 87,
   "metadata": {},
   "outputs": [
    {
     "data": {
      "image/png": "[encoded data removed]",
      "text/plain": [
       "<Figure size 640x480 with 1 Axes>"
      ]
     },
     "metadata": {},
     "output_type": "display_data"
    }
   ],
   "source": [
    "import matplotlib.pyplot as plt\n",
    "\n",
    "plt.plot(range(0, 160), sim_VA, color='red', label='V(A)')\n",
    "plt.plot(range(0, 160), sim_VB, color='blue', label='V(B)')\n",
    "plt.xlabel('Trail')\n",
    "plt.ylabel('V(i)')\n",
    "plt.legend()\n",
    "plt.show()"
   ]
  },
  {
   "cell_type": "code",
   "execution_count": 88,
   "metadata": {},
   "outputs": [
    {
     "data": {
      "image/png": "[encoded data removed]",
      "text/plain": [
       "<Figure size 640x480 with 1 Axes>"
      ]
     },
     "metadata": {},
     "output_type": "display_data"
    }
   ],
   "source": [
    "import matplotlib.pyplot as plt\n",
    "\n",
    "plt.plot(range(0, 160), sim_VA - sim_VB, label='V(A) - V(B)')\n",
    "plt.xlabel('Trail')\n",
    "plt.ylabel('V(A) - V(B)')\n",
    "plt.legend()\n",
    "plt.show()"
   ]
  },
  {
   "cell_type": "markdown",
   "metadata": {},
   "source": [
    "# Task (c)"
   ]
  },
  {
   "cell_type": "code",
   "execution_count": 22,
   "metadata": {},
   "outputs": [],
   "source": [
    "inst_outcomes = pd.read_csv(f'./data_2023/inst_outcomes.csv', header=None)"
   ]
  },
  {
   "cell_type": "code",
   "execution_count": 23,
   "metadata": {},
   "outputs": [
    {
     "data": {
      "text/plain": [
       "61.54"
      ]
     },
     "execution_count": 23,
     "metadata": {},
     "output_type": "execute_result"
    }
   ],
   "source": [
    "outcomes_count = inst_outcomes.apply(lambda x: x.value_counts(), axis=1)\n",
    "\n",
    "real_aversive_mean = outcomes_count[1].mean()\n",
    "\n",
    "real_aversive_mean"
   ]
  },
  {
   "cell_type": "code",
   "execution_count": 24,
   "metadata": {},
   "outputs": [],
   "source": [
    "def get_mean(alpha, beta):\n",
    "    avg_aversive = 0\n",
    "\n",
    "    for i in range(0, 1000):\n",
    "        avg_aversive = (avg_aversive + generate_stimuli(alpha, beta)[0: 160].sum()) / 2\n",
    "\n",
    "    return avg_aversive"
   ]
  },
  {
   "cell_type": "code",
   "execution_count": 25,
   "metadata": {},
   "outputs": [],
   "source": [
    "def get_mse(a, b):\n",
    "    se = 0.0\n",
    "\n",
    "    for i in range(10):\n",
    "\n",
    "        se += np.sqrt((get_mean(a, b) - real_aversive_mean) ** 2)\n",
    "\n",
    "    mse = se / 10\n",
    "\n",
    "    return mse"
   ]
  },
  {
   "cell_type": "code",
   "execution_count": 26,
   "metadata": {},
   "outputs": [
    {
     "data": {
      "application/vnd.jupyter.widget-view+json": {
       "model_id": "82eb417ec61c42cdb4c20bfc5dcc04a1",
       "version_major": 2,
       "version_minor": 0
      },
      "text/plain": [
       "  0%|          | 0/10 [00:00<?, ?it/s]"
      ]
     },
     "metadata": {},
     "output_type": "display_data"
    },
    {
     "data": {
      "application/vnd.jupyter.widget-view+json": {
       "model_id": "1b114dfcaff643ae90dfd186659471de",
       "version_major": 2,
       "version_minor": 0
      },
      "text/plain": [
       "  0%|          | 0/9 [00:00<?, ?it/s]"
      ]
     },
     "metadata": {},
     "output_type": "display_data"
    },
    {
     "data": {
      "application/vnd.jupyter.widget-view+json": {
       "model_id": "7cdb005ce94d439c85c7965255bcc363",
       "version_major": 2,
       "version_minor": 0
      },
      "text/plain": [
       "  0%|          | 0/9 [00:00<?, ?it/s]"
      ]
     },
     "metadata": {},
     "output_type": "display_data"
    },
    {
     "data": {
      "application/vnd.jupyter.widget-view+json": {
       "model_id": "c72bb7d172af4033b1a33bebecb1b223",
       "version_major": 2,
       "version_minor": 0
      },
      "text/plain": [
       "  0%|          | 0/9 [00:00<?, ?it/s]"
      ]
     },
     "metadata": {},
     "output_type": "display_data"
    },
    {
     "data": {
      "application/vnd.jupyter.widget-view+json": {
       "model_id": "b17bea22f24d4ce78bc1f0712bef3d82",
       "version_major": 2,
       "version_minor": 0
      },
      "text/plain": [
       "  0%|          | 0/9 [00:00<?, ?it/s]"
      ]
     },
     "metadata": {},
     "output_type": "display_data"
    },
    {
     "data": {
      "application/vnd.jupyter.widget-view+json": {
       "model_id": "03253b3314dd4a789f77c4763707b254",
       "version_major": 2,
       "version_minor": 0
      },
      "text/plain": [
       "  0%|          | 0/9 [00:00<?, ?it/s]"
      ]
     },
     "metadata": {},
     "output_type": "display_data"
    },
    {
     "data": {
      "application/vnd.jupyter.widget-view+json": {
       "model_id": "cbe05453e4be4acd9c8233c761530e06",
       "version_major": 2,
       "version_minor": 0
      },
      "text/plain": [
       "  0%|          | 0/9 [00:00<?, ?it/s]"
      ]
     },
     "metadata": {},
     "output_type": "display_data"
    },
    {
     "data": {
      "application/vnd.jupyter.widget-view+json": {
       "model_id": "a96d22de5213413291a7344017f3705e",
       "version_major": 2,
       "version_minor": 0
      },
      "text/plain": [
       "  0%|          | 0/9 [00:00<?, ?it/s]"
      ]
     },
     "metadata": {},
     "output_type": "display_data"
    },
    {
     "data": {
      "application/vnd.jupyter.widget-view+json": {
       "model_id": "34a78c719bbd414ca22b2753bae17e68",
       "version_major": 2,
       "version_minor": 0
      },
      "text/plain": [
       "  0%|          | 0/9 [00:00<?, ?it/s]"
      ]
     },
     "metadata": {},
     "output_type": "display_data"
    },
    {
     "data": {
      "application/vnd.jupyter.widget-view+json": {
       "model_id": "67f375ee7945426a8f12647b8f8504e3",
       "version_major": 2,
       "version_minor": 0
      },
      "text/plain": [
       "  0%|          | 0/9 [00:00<?, ?it/s]"
      ]
     },
     "metadata": {},
     "output_type": "display_data"
    },
    {
     "data": {
      "application/vnd.jupyter.widget-view+json": {
       "model_id": "27073c42052d441ea5babb1f4388a852",
       "version_major": 2,
       "version_minor": 0
      },
      "text/plain": [
       "  0%|          | 0/9 [00:00<?, ?it/s]"
      ]
     },
     "metadata": {},
     "output_type": "display_data"
    },
    {
     "name": "stdout",
     "output_type": "stream",
     "text": [
      "2.417056556268162\n",
      "(0.7000000000000001, 6)\n"
     ]
    }
   ],
   "source": [
    "results = {}\n",
    "\n",
    "min_mse = None\n",
    "min_index = None\n",
    "\n",
    "for i in tqdm(np.arange(0, 1, 0.1)):\n",
    "    for j in tqdm(np.arange(1, 10, 1)):\n",
    "        tmp_res = get_mse(i, j) \n",
    "        \n",
    "        if min_mse is None:\n",
    "            min_mse = tmp_res\n",
    "            min_index = (i, j)\n",
    "        else:\n",
    "            if min_mse > tmp_res:\n",
    "                min_mse = tmp_res\n",
    "                min_index = (i, j)\n",
    "        \n",
    "        results[(i, j)] = tmp_res\n",
    "        \n",
    "print(min_mse)\n",
    "print(min_index)"
   ]
  },
  {
   "cell_type": "markdown",
   "metadata": {},
   "source": [
    "# Task (d)"
   ]
  },
  {
   "cell_type": "code",
   "execution_count": 27,
   "metadata": {},
   "outputs": [],
   "source": [
    "def NLL(theta, index):\n",
    "    alpha = theta[0]\n",
    "    beta = theta[1]\n",
    "    \n",
    "    state = (0.7, 0.3)\n",
    "\n",
    "    V_A = 0.5\n",
    "    V_B = 0.5\n",
    "\n",
    "    value = 0.0\n",
    "\n",
    "    for t in range(160):\n",
    "        if (t + 1) % 40 == 0:\n",
    "            state = change_state(state)\n",
    "\n",
    "    #     print(f't: {t}, c: {inst_choices.iloc[patient_index][t]}, o: {inst_outcomes.iloc[patient_index][t]}')\n",
    "        \n",
    "        choice = inst_choices.iloc[index][t]\n",
    "        \n",
    "        value += np.log(get_p(V_A, V_B, beta)) if choice == 1 else np.log(get_p(V_B, V_A, beta))\n",
    "\n",
    "        if choice == 1:\n",
    "            V_A = get_V(V_A, alpha, inst_outcomes.iloc[index][t])\n",
    "        elif choice == 2:\n",
    "            V_B = get_V(V_B, alpha, inst_outcomes.iloc[index][t])\n",
    "        else:\n",
    "            raise ValueError(f'Unexpected choice {choice}')\n",
    "\n",
    "    value = - value\n",
    "\n",
    "    return value"
   ]
  },
  {
   "cell_type": "code",
   "execution_count": 28,
   "metadata": {},
   "outputs": [
    {
     "data": {
      "text/plain": [
       "60.87733343878333"
      ]
     },
     "execution_count": 28,
     "metadata": {},
     "output_type": "execute_result"
    }
   ],
   "source": [
    "# 9th\n",
    "NLL((0.4, 7), 8)"
   ]
  },
  {
   "cell_type": "code",
   "execution_count": 29,
   "metadata": {},
   "outputs": [
    {
     "data": {
      "text/plain": [
       "101.6050206224349"
      ]
     },
     "execution_count": 29,
     "metadata": {},
     "output_type": "execute_result"
    }
   ],
   "source": [
    "# 4th \n",
    "NLL((0.4, 7), 3)"
   ]
  },
  {
   "cell_type": "code",
   "execution_count": 30,
   "metadata": {},
   "outputs": [
    {
     "data": {
      "text/plain": [
       "52.68861467295329"
      ]
     },
     "execution_count": 30,
     "metadata": {},
     "output_type": "execute_result"
    }
   ],
   "source": [
    "# 5th\n",
    "NLL((0.4, 7), 4)"
   ]
  },
  {
   "cell_type": "markdown",
   "metadata": {},
   "source": [
    "# Task (e)"
   ]
  },
  {
   "cell_type": "code",
   "execution_count": 31,
   "metadata": {},
   "outputs": [],
   "source": [
    "import scipy.optimize as optimize\n",
    "\n",
    "def get_optimize(index):\n",
    "    bounds = [(0, 1), (0.1, 9.9)]\n",
    "    \n",
    "    return optimize.minimize(NLL, [0.4, 7], args=(index,), bounds=bounds, method='Nelder-Mead')"
   ]
  },
  {
   "cell_type": "code",
   "execution_count": 32,
   "metadata": {},
   "outputs": [],
   "source": [
    "params_opt = {\n",
    "    \"alpha\": [],\n",
    "    \"beta\": [],\n",
    "}"
   ]
  },
  {
   "cell_type": "code",
   "execution_count": 33,
   "metadata": {},
   "outputs": [
    {
     "name": "stdout",
     "output_type": "stream",
     "text": [
      "subject 0: (0.9123475243726828, 5.049741594485433)\n",
      "subject 1: (0.8646542688547412, 4.39172869744073)\n",
      "subject 2: (0.6874298676554158, 3.931873529277261)\n",
      "subject 3: (0.6588268629227964, 2.6660722258736627)\n",
      "subject 4: (0.32755328294739333, 6.186754104668764)\n",
      "subject 5: (0.5078872779729234, 4.469311569965246)\n",
      "subject 6: (0.4527871696355655, 5.034481650159538)\n",
      "subject 7: (0.5851688582772295, 6.2059331949834835)\n",
      "subject 8: (0.5191892767047275, 4.7836625098662475)\n",
      "subject 9: (0.8245807274953798, 2.443467474836389)\n",
      "subject 10: (0.7609725336785794, 1.992060745299548)\n",
      "subject 11: (0.6416409020050228, 5.178754439978924)\n",
      "subject 12: (0.527299876631122, 5.276143510945772)\n",
      "subject 13: (0.5251953135830748, 3.1107074007993174)\n",
      "subject 14: (0.6236587324453544, 4.016122385961955)\n",
      "subject 15: (0.5109206286273854, 5.5185763953257165)\n",
      "subject 16: (0.5917909960719749, 4.803530410937585)\n",
      "subject 17: (0.6930467561417057, 4.784267188946492)\n",
      "subject 18: (0.6176768973048523, 6.236902330768658)\n",
      "subject 19: (0.5848371358101034, 3.075754351367907)\n",
      "subject 20: (0.39394366416822235, 5.530253403218815)\n",
      "subject 21: (0.4290159826558168, 5.71636609761582)\n",
      "subject 22: (0.3039435214369822, 4.463217108196831)\n",
      "subject 23: (0.7335469076109062, 4.502172462434408)\n",
      "subject 24: (0.4089321385979227, 7.025282221838788)\n",
      "subject 25: (0.3624625287532887, 4.47807556513159)\n",
      "subject 26: (0.41152234827686024, 6.001893711089024)\n",
      "subject 27: (0.502843005657194, 9.9)\n",
      "subject 28: (0.2879414868067147, 4.074166246580154)\n",
      "subject 29: (0.5146958255767804, 9.9)\n",
      "subject 30: (0.542131668598562, 7.3952801823743926)\n",
      "subject 31: (0.32381139382630364, 5.270028449141403)\n",
      "subject 32: (0.35656937860388793, 7.8152302016347805)\n",
      "subject 33: (0.3053880931014705, 5.074576185526157)\n",
      "subject 34: (0.5220081514344364, 5.303172321214046)\n",
      "subject 35: (0.35682212521793993, 4.2348485610861495)\n",
      "subject 36: (0.3836866089121128, 3.5183438048801907)\n",
      "subject 37: (0.3544721524720344, 5.678991339395102)\n",
      "subject 38: (0.337864764397666, 4.430148224526917)\n",
      "subject 39: (0.37808302762190027, 6.070467368010814)\n",
      "subject 40: (0.22321577369470808, 6.3272052506081495)\n",
      "subject 41: (0.33202716499832186, 4.488989967318557)\n",
      "subject 42: (0.2862964052220708, 5.091674939005788)\n",
      "subject 43: (0.29027284835362505, 8.03836885426417)\n",
      "subject 44: (0.3762444651588521, 4.561760771322476)\n",
      "subject 45: (0.2858868788258906, 4.963264613612858)\n",
      "subject 46: (0.30663804127299105, 5.571656679350085)\n",
      "subject 47: (0.27498851361057053, 2.061609461717773)\n",
      "subject 48: (0.24152694654586454, 6.086938178314062)\n",
      "subject 49: (0.545441888395189, 4.804506810575317)\n"
     ]
    }
   ],
   "source": [
    "for i in range(50):\n",
    "    print(f'subject {i}: {tuple(get_optimize(i).x)}')\n",
    "    \n",
    "    params_opt[\"alpha\"].append(get_optimize(i).x[0])\n",
    "    params_opt[\"beta\"].append(get_optimize(i).x[1])"
   ]
  },
  {
   "cell_type": "code",
   "execution_count": 34,
   "metadata": {},
   "outputs": [],
   "source": [
    "params_df = pd.DataFrame(params_opt)"
   ]
  },
  {
   "cell_type": "code",
   "execution_count": 35,
   "metadata": {},
   "outputs": [
    {
     "data": {
      "text/plain": [
       "alpha    0.475794\n",
       "beta     5.150687\n",
       "dtype: float64"
      ]
     },
     "execution_count": 35,
     "metadata": {},
     "output_type": "execute_result"
    }
   ],
   "source": [
    "# mean\n",
    "params_df.mean()"
   ]
  },
  {
   "cell_type": "code",
   "execution_count": 36,
   "metadata": {},
   "outputs": [
    {
     "data": {
      "text/plain": [
       "alpha    0.029406\n",
       "beta     2.665332\n",
       "dtype: float64"
      ]
     },
     "execution_count": 36,
     "metadata": {},
     "output_type": "execute_result"
    }
   ],
   "source": [
    "# variance\n",
    "params_df.var()"
   ]
  },
  {
   "cell_type": "code",
   "execution_count": 37,
   "metadata": {},
   "outputs": [
    {
     "data": {
      "image/png": "[encoded data removed]",
      "text/plain": [
       "<Figure size 640x480 with 1 Axes>"
      ]
     },
     "metadata": {},
     "output_type": "display_data"
    }
   ],
   "source": [
    "import matplotlib.pyplot as plt\n",
    "\n",
    "plt.scatter(range(0, 25), params_df['alpha'].iloc[0: 25], color='red', label='anxious')\n",
    "plt.scatter(range(25, 50), params_df['alpha'].iloc[25: 50], color='blue', label='calm')\n",
    "plt.xlabel('Participant Index')\n",
    "plt.ylabel('Learning Rate')\n",
    "plt.legend()\n",
    "plt.show()"
   ]
  },
  {
   "cell_type": "code",
   "execution_count": 38,
   "metadata": {},
   "outputs": [
    {
     "data": {
      "image/png": "[encoded data removed]",
      "text/plain": [
       "<Figure size 640x480 with 1 Axes>"
      ]
     },
     "metadata": {},
     "output_type": "display_data"
    }
   ],
   "source": [
    "import matplotlib.pyplot as plt\n",
    "\n",
    "plt.scatter(range(0, 25), params_df['beta'].iloc[0: 25], color='red', label='anxious')\n",
    "plt.scatter(range(25, 50), params_df['beta'].iloc[25: 50], color='blue', label='calm')\n",
    "plt.xlabel('Participant Index')\n",
    "plt.ylabel('Inverse Temperature')\n",
    "plt.legend()\n",
    "plt.show()"
   ]
  },
  {
   "cell_type": "code",
   "execution_count": 39,
   "metadata": {},
   "outputs": [
    {
     "data": {
      "text/plain": [
       "PearsonRResult(statistic=-0.2471587298077043, pvalue=0.0835531092366362)"
      ]
     },
     "execution_count": 39,
     "metadata": {},
     "output_type": "execute_result"
    }
   ],
   "source": [
    "stats.pearsonr(params_df['alpha'], params_df['beta'])"
   ]
  },
  {
   "cell_type": "code",
   "execution_count": 40,
   "metadata": {},
   "outputs": [
    {
     "data": {
      "text/plain": [
       "PearsonRResult(statistic=0.0462564624644245, pvalue=0.8262148773165934)"
      ]
     },
     "execution_count": 40,
     "metadata": {},
     "output_type": "execute_result"
    }
   ],
   "source": [
    "stats.pearsonr(params_df['alpha'].iloc[0:25], params_df['alpha'].iloc[25:50])"
   ]
  },
  {
   "cell_type": "code",
   "execution_count": 41,
   "metadata": {},
   "outputs": [
    {
     "data": {
      "text/plain": [
       "PearsonRResult(statistic=0.31852857636357024, pvalue=0.1206993371186486)"
      ]
     },
     "execution_count": 41,
     "metadata": {},
     "output_type": "execute_result"
    }
   ],
   "source": [
    "stats.pearsonr(params_df['beta'].iloc[0:25], params_df['beta'].iloc[25:50])"
   ]
  },
  {
   "cell_type": "markdown",
   "metadata": {},
   "source": [
    "# Some Try"
   ]
  },
  {
   "cell_type": "code",
   "execution_count": 42,
   "metadata": {},
   "outputs": [],
   "source": [
    "group_anxious = params_df.iloc[0:25]\n",
    "group_calm = params_df.iloc[25:50]"
   ]
  },
  {
   "cell_type": "code",
   "execution_count": 43,
   "metadata": {},
   "outputs": [
    {
     "name": "stdout",
     "output_type": "stream",
     "text": [
      "0.5874738841443152\n",
      "0.3641136594134094\n"
     ]
    }
   ],
   "source": [
    "print(group_anxious['alpha'].mean())\n",
    "print(group_calm['alpha'].mean())"
   ]
  },
  {
   "cell_type": "code",
   "execution_count": 44,
   "metadata": {},
   "outputs": [
    {
     "name": "stdout",
     "output_type": "stream",
     "text": [
      "4.655725480207733\n",
      "5.645647907467197\n"
     ]
    }
   ],
   "source": [
    "print(group_anxious['beta'].mean())\n",
    "print(group_calm['beta'].mean())"
   ]
  },
  {
   "cell_type": "code",
   "execution_count": 45,
   "metadata": {},
   "outputs": [
    {
     "name": "stdout",
     "output_type": "stream",
     "text": [
      "0.15894583408826718\n",
      "0.0937523704156621\n"
     ]
    }
   ],
   "source": [
    "print(group_anxious['alpha'].std())\n",
    "print(group_calm['alpha'].std())"
   ]
  },
  {
   "cell_type": "code",
   "execution_count": 46,
   "metadata": {},
   "outputs": [
    {
     "name": "stdout",
     "output_type": "stream",
     "text": [
      "1.265532536739041\n",
      "1.8247627143798375\n"
     ]
    }
   ],
   "source": [
    "print(group_anxious['beta'].std())\n",
    "print(group_calm['beta'].std())"
   ]
  },
  {
   "cell_type": "code",
   "execution_count": 47,
   "metadata": {},
   "outputs": [
    {
     "data": {
      "text/plain": [
       "KstestResult(statistic=0.08750079792850396, pvalue=0.9819204122722219, statistic_location=0.527299876631122, statistic_sign=1)"
      ]
     },
     "execution_count": 47,
     "metadata": {},
     "output_type": "execute_result"
    }
   ],
   "source": [
    "# if p > 0.05 => normal distribution\n",
    "\n",
    "stats.kstest(group_anxious['alpha'], 'norm', (group_anxious['alpha'].mean(), group_anxious['alpha'].std()))"
   ]
  },
  {
   "cell_type": "code",
   "execution_count": 48,
   "metadata": {},
   "outputs": [
    {
     "data": {
      "text/plain": [
       "KstestResult(statistic=0.17731278370735137, pvalue=0.36780704481008364, statistic_location=0.3836866089121128, statistic_sign=1)"
      ]
     },
     "execution_count": 48,
     "metadata": {},
     "output_type": "execute_result"
    }
   ],
   "source": [
    "stats.kstest(group_calm['alpha'], 'norm', (group_calm['alpha'].mean(), group_calm['alpha'].std()))"
   ]
  },
  {
   "cell_type": "code",
   "execution_count": 49,
   "metadata": {},
   "outputs": [
    {
     "data": {
      "text/plain": [
       "KstestResult(statistic=0.1373781900151615, pvalue=0.682595392401693, statistic_location=4.39172869744073, statistic_sign=-1)"
      ]
     },
     "execution_count": 49,
     "metadata": {},
     "output_type": "execute_result"
    }
   ],
   "source": [
    "stats.kstest(group_anxious['beta'], 'norm', (group_anxious['beta'].mean(), group_anxious['beta'].std()))"
   ]
  },
  {
   "cell_type": "code",
   "execution_count": 50,
   "metadata": {},
   "outputs": [
    {
     "data": {
      "text/plain": [
       "KstestResult(statistic=0.16445426789012763, pvalue=0.45992514322686295, statistic_location=6.086938178314062, statistic_sign=1)"
      ]
     },
     "execution_count": 50,
     "metadata": {},
     "output_type": "execute_result"
    }
   ],
   "source": [
    "stats.kstest(group_calm['beta'], 'norm', (group_calm['beta'].mean(), group_calm['beta'].std()))"
   ]
  },
  {
   "cell_type": "markdown",
   "metadata": {},
   "source": [
    "# Task (f)"
   ]
  },
  {
   "cell_type": "code",
   "execution_count": 51,
   "metadata": {},
   "outputs": [
    {
     "name": "stdout",
     "output_type": "stream",
     "text": [
      "t: 6.051963984201755\n",
      "P: 4.4292200917754613e-07\n",
      "mean of anxious group has significant difference to that of calm group.\n"
     ]
    }
   ],
   "source": [
    "t, p = stats.ttest_ind(group_anxious['alpha'], group_calm['alpha'], equal_var=False)\n",
    "\n",
    "print(\"t:\", t)\n",
    "print(\"P:\", p)\n",
    "print(\"mean of anxious group has significant difference to that of calm group.\")"
   ]
  },
  {
   "cell_type": "code",
   "execution_count": 52,
   "metadata": {},
   "outputs": [
    {
     "name": "stdout",
     "output_type": "stream",
     "text": [
      "t: -2.228892207756577\n",
      "P: 0.031130808054821983\n",
      "anxious group have similar mean to calm group.\n"
     ]
    }
   ],
   "source": [
    "t, p = stats.ttest_ind(group_anxious['beta'], group_calm['beta'], equal_var=False)\n",
    "\n",
    "print(\"t:\", t)\n",
    "print(\"P:\", p)\n",
    "print(\"anxious group have similar mean to calm group.\")"
   ]
  },
  {
   "cell_type": "markdown",
   "metadata": {},
   "source": [
    "# Task (g)"
   ]
  },
  {
   "cell_type": "code",
   "execution_count": 53,
   "metadata": {},
   "outputs": [],
   "source": [
    "def generate_stimuli_g(alpha, beta):\n",
    "    state = (0.7, 0.3)\n",
    "\n",
    "    num = 160\n",
    "\n",
    "    sim_choice = np.zeros(num)\n",
    "    sim_outcome = np.zeros(num)\n",
    "\n",
    "    V_A = 0.5\n",
    "    V_B = 0.5\n",
    "\n",
    "    for t in range(num):\n",
    "        if (t + 1) % 40 == 0:\n",
    "            state = change_state(state)\n",
    "\n",
    "        p_A = get_p(V_A, V_B, beta)\n",
    "\n",
    "        choice = 1 if np.random.rand() < p_A else 2\n",
    "\n",
    "        check = np.random.rand()\n",
    "        thres = state[0]\n",
    "\n",
    "        outcome = int(check < thres) if choice == 1 else int(check > thres)\n",
    "\n",
    "    #     print(f\"c: {'A' if choice == 1 else 'B'}, o: {'-' if outcome == 0 else 'aversive'}\")\n",
    "\n",
    "        sim_choice[t] = choice\n",
    "        sim_outcome[t] = outcome\n",
    "\n",
    "        V_A = get_V(V_A, alpha, outcome) if choice == 1 else V_A\n",
    "        V_B = get_V(V_B, alpha, outcome) if choice == 2 else V_B\n",
    "    \n",
    "    return sim_choice, sim_outcome"
   ]
  },
  {
   "cell_type": "code",
   "execution_count": 54,
   "metadata": {},
   "outputs": [],
   "source": [
    "def NLL_g(theta, index, choices, outcomes):\n",
    "    alpha = theta[0]\n",
    "    beta = theta[1]\n",
    "    \n",
    "    state = (0.7, 0.3)\n",
    "\n",
    "    V_A = 0.5\n",
    "    V_B = 0.5\n",
    "\n",
    "    value = 0.0\n",
    "\n",
    "    for t in range(160):\n",
    "        if (t + 1) % 40 == 0:\n",
    "            state = change_state(state)\n",
    "\n",
    "    #     print(f't: {t}, c: {inst_choices.iloc[patient_index][t]}, o: {inst_outcomes.iloc[patient_index][t]}')\n",
    "        \n",
    "        choice = choices.iloc[index][t]\n",
    "        \n",
    "        value += np.log(get_p(V_A, V_B, beta)) if choice == 1 else np.log(get_p(V_B, V_A, beta))\n",
    "\n",
    "        if choice == 1:\n",
    "            V_A = get_V(V_A, alpha, outcomes.iloc[index][t])\n",
    "        elif choice == 2:\n",
    "            V_B = get_V(V_B, alpha, outcomes.iloc[index][t])\n",
    "        else:\n",
    "            raise ValueError(f'Unexpected choice {choice}')\n",
    "\n",
    "    value = - value\n",
    "\n",
    "    return value"
   ]
  },
  {
   "cell_type": "code",
   "execution_count": 55,
   "metadata": {},
   "outputs": [],
   "source": [
    "def get_opt_g(index, choices, outcomes):\n",
    "    opt_min = optimize.minimize(NLL_g, [0.4, 7], \n",
    "                            args=(index, choices, outcomes), \n",
    "                            bounds=[(0, 1), (0.1, 9.9)], \n",
    "                            method='Nelder-Mead')\n",
    "    return opt_min"
   ]
  },
  {
   "cell_type": "code",
   "execution_count": 56,
   "metadata": {},
   "outputs": [],
   "source": [
    "# alpha_set, beta_set = np.random.multivariate_normal([0.5, 5.0], [[0.01, 0], [0, 0.5]], 50).T\n",
    "\n",
    "# plt.plot(alpha_set, beta_set, '+')"
   ]
  },
  {
   "cell_type": "code",
   "execution_count": 57,
   "metadata": {},
   "outputs": [],
   "source": [
    "# gen_params = list(zip(alpha_set, beta_set))\n",
    "\n",
    "# choices_g_dict = {}\n",
    "# outcomes_g_dict = {}\n",
    "\n",
    "# for i in range(len(gen_params)):\n",
    "#     choices, outcomes = generate_stimuli_g(gen_params[i][0], gen_params[i][1])\n",
    "    \n",
    "#     choices_g_dict[i] = choices\n",
    "#     outcomes_g_dict[i] = outcomes\n",
    "    \n",
    "# choices_g = pd.DataFrame(choices_g_dict).T\n",
    "# outcomes_g = pd.DataFrame(outcomes_g_dict).T"
   ]
  },
  {
   "cell_type": "code",
   "execution_count": 58,
   "metadata": {},
   "outputs": [],
   "source": [
    "# params_g = {\n",
    "#     \"alpha\": [],\n",
    "#     \"beta\": [],\n",
    "# }\n",
    "\n",
    "# for i in range(50):\n",
    "#     print(f'subject {i}: {tuple(get_opt_g(i, choices_g, outcomes_g).x)}')\n",
    "    \n",
    "#     params_g[\"alpha\"].append(get_opt_g(i, choices_g, outcomes_g).x[0])\n",
    "#     params_g[\"beta\"].append(get_opt_g(i, choices_g, outcomes_g).x[1])"
   ]
  },
  {
   "cell_type": "code",
   "execution_count": 59,
   "metadata": {},
   "outputs": [],
   "source": [
    "def param_recovery():\n",
    "    alpha_set, beta_set = np.random.multivariate_normal([0.5, 5.0], [[0.01, 0], [0, 0.5]], 50).T\n",
    "    \n",
    "    gen_params = list(zip(alpha_set, beta_set))\n",
    "\n",
    "    choices_g_dict = {}\n",
    "    outcomes_g_dict = {}\n",
    "\n",
    "    for i in range(len(gen_params)):\n",
    "        choices, outcomes = generate_stimuli_g(gen_params[i][0], gen_params[i][1])\n",
    "\n",
    "        choices_g_dict[i] = choices\n",
    "        outcomes_g_dict[i] = outcomes\n",
    "\n",
    "    choices_g = pd.DataFrame(choices_g_dict).T\n",
    "    outcomes_g = pd.DataFrame(outcomes_g_dict).T\n",
    "    \n",
    "    params_g = {\n",
    "        \"alpha\": [],\n",
    "        \"beta\": [],\n",
    "    }\n",
    "\n",
    "    for i in range(50):\n",
    "#         print(f'subject {i}: {tuple(get_opt_g(i, choices_g, outcomes_g).x)}')\n",
    "\n",
    "        params_g[\"alpha\"].append(get_opt_g(i, choices_g, outcomes_g).x[0])\n",
    "        params_g[\"beta\"].append(get_opt_g(i, choices_g, outcomes_g).x[1])\n",
    "        \n",
    "    return pd.DataFrame(params_g)"
   ]
  },
  {
   "cell_type": "code",
   "execution_count": 60,
   "metadata": {},
   "outputs": [
    {
     "name": "stdout",
     "output_type": "stream",
     "text": [
      "PearsonRResult(statistic=-0.4147045172231539, pvalue=0.0027503903415331517)\n",
      "PearsonRResult(statistic=-0.09620337281065669, pvalue=0.5063070359783541)\n",
      "PearsonRResult(statistic=-0.2101891669707906, pvalue=0.14289553519291182)\n",
      "PearsonRResult(statistic=0.25503948504267204, pvalue=0.07386041889086241)\n",
      "PearsonRResult(statistic=0.24324852839155134, pvalue=0.08871889939203728)\n",
      "PearsonRResult(statistic=-0.11501530886481014, pvalue=0.42640676168740765)\n",
      "PearsonRResult(statistic=-0.2525797495294087, pvalue=0.07678502136999413)\n",
      "PearsonRResult(statistic=-0.16768807315158127, pvalue=0.24442090957089738)\n",
      "PearsonRResult(statistic=0.44993272302011816, pvalue=0.0010444242042116374)\n",
      "PearsonRResult(statistic=-0.3080806434121452, pvalue=0.029510001384180203)\n"
     ]
    }
   ],
   "source": [
    "for i in range(10):\n",
    "    res_g = param_recovery()\n",
    "\n",
    "    print(stats.pearsonr(res_g['alpha'], res_g['beta']))"
   ]
  },
  {
   "cell_type": "markdown",
   "metadata": {},
   "source": [
    "# Task (h)"
   ]
  },
  {
   "cell_type": "code",
   "execution_count": 61,
   "metadata": {},
   "outputs": [],
   "source": [
    "def get_V_h(v_t, alpha, o, A):\n",
    "    return A * v_t + alpha * (o - v_t)"
   ]
  },
  {
   "cell_type": "code",
   "execution_count": 62,
   "metadata": {},
   "outputs": [],
   "source": [
    "def NLL_h(theta, index):\n",
    "    alpha = theta[0]\n",
    "    beta = theta[1]\n",
    "    A = theta[2]\n",
    "    \n",
    "    state = (0.7, 0.3)\n",
    "\n",
    "    V_A = 0.5\n",
    "    V_B = 0.5\n",
    "\n",
    "    value = 0.0\n",
    "\n",
    "    for t in range(160):\n",
    "        if (t + 1) % 40 == 0:\n",
    "            state = change_state(state)\n",
    "\n",
    "    #     print(f't: {t}, c: {inst_choices.iloc[patient_index][t]}, o: {inst_outcomes.iloc[patient_index][t]}')\n",
    "        \n",
    "        choice = inst_choices.iloc[index][t]\n",
    "        \n",
    "        value += np.log(get_p(V_A, V_B, beta)) if choice == 1 else np.log(get_p(V_B, V_A, beta))\n",
    "\n",
    "        if choice == 1:\n",
    "            V_A = get_V_h(V_A, alpha, inst_outcomes.iloc[index][t], A)\n",
    "        elif choice == 2:\n",
    "            V_B = get_V_h(V_B, alpha, inst_outcomes.iloc[index][t], A)\n",
    "        else:\n",
    "            raise ValueError(f'Unexpected choice {choice}')\n",
    "\n",
    "    value = - value\n",
    "\n",
    "    return value"
   ]
  },
  {
   "cell_type": "code",
   "execution_count": 63,
   "metadata": {},
   "outputs": [
    {
     "data": {
      "text/html": [
       "<div>\n",
       "<style scoped>\n",
       "    .dataframe tbody tr th:only-of-type {\n",
       "        vertical-align: middle;\n",
       "    }\n",
       "\n",
       "    .dataframe tbody tr th {\n",
       "        vertical-align: top;\n",
       "    }\n",
       "\n",
       "    .dataframe thead th {\n",
       "        text-align: right;\n",
       "    }\n",
       "</style>\n",
       "<table border=\"1\" class=\"dataframe\">\n",
       "  <thead>\n",
       "    <tr style=\"text-align: right;\">\n",
       "      <th></th>\n",
       "      <th>alpha</th>\n",
       "      <th>beta</th>\n",
       "    </tr>\n",
       "  </thead>\n",
       "  <tbody>\n",
       "    <tr>\n",
       "      <th>0</th>\n",
       "      <td>0.846595</td>\n",
       "      <td>5.439342</td>\n",
       "    </tr>\n",
       "    <tr>\n",
       "      <th>1</th>\n",
       "      <td>0.850537</td>\n",
       "      <td>4.464722</td>\n",
       "    </tr>\n",
       "    <tr>\n",
       "      <th>2</th>\n",
       "      <td>0.687437</td>\n",
       "      <td>3.931832</td>\n",
       "    </tr>\n",
       "    <tr>\n",
       "      <th>3</th>\n",
       "      <td>0.383677</td>\n",
       "      <td>4.644361</td>\n",
       "    </tr>\n",
       "    <tr>\n",
       "      <th>4</th>\n",
       "      <td>0.327557</td>\n",
       "      <td>6.186691</td>\n",
       "    </tr>\n",
       "    <tr>\n",
       "      <th>5</th>\n",
       "      <td>0.507898</td>\n",
       "      <td>4.469318</td>\n",
       "    </tr>\n",
       "    <tr>\n",
       "      <th>6</th>\n",
       "      <td>0.452810</td>\n",
       "      <td>5.034420</td>\n",
       "    </tr>\n",
       "    <tr>\n",
       "      <th>7</th>\n",
       "      <td>0.448117</td>\n",
       "      <td>8.056620</td>\n",
       "    </tr>\n",
       "    <tr>\n",
       "      <th>8</th>\n",
       "      <td>0.519191</td>\n",
       "      <td>4.783594</td>\n",
       "    </tr>\n",
       "    <tr>\n",
       "      <th>9</th>\n",
       "      <td>0.824586</td>\n",
       "      <td>2.443416</td>\n",
       "    </tr>\n",
       "    <tr>\n",
       "      <th>10</th>\n",
       "      <td>0.549833</td>\n",
       "      <td>2.770521</td>\n",
       "    </tr>\n",
       "    <tr>\n",
       "      <th>11</th>\n",
       "      <td>0.641638</td>\n",
       "      <td>5.178795</td>\n",
       "    </tr>\n",
       "    <tr>\n",
       "      <th>12</th>\n",
       "      <td>0.527290</td>\n",
       "      <td>5.276129</td>\n",
       "    </tr>\n",
       "    <tr>\n",
       "      <th>13</th>\n",
       "      <td>0.525191</td>\n",
       "      <td>3.110686</td>\n",
       "    </tr>\n",
       "    <tr>\n",
       "      <th>14</th>\n",
       "      <td>0.623644</td>\n",
       "      <td>4.016120</td>\n",
       "    </tr>\n",
       "    <tr>\n",
       "      <th>15</th>\n",
       "      <td>0.510921</td>\n",
       "      <td>5.518632</td>\n",
       "    </tr>\n",
       "    <tr>\n",
       "      <th>16</th>\n",
       "      <td>0.591792</td>\n",
       "      <td>4.803531</td>\n",
       "    </tr>\n",
       "    <tr>\n",
       "      <th>17</th>\n",
       "      <td>0.693039</td>\n",
       "      <td>4.784323</td>\n",
       "    </tr>\n",
       "    <tr>\n",
       "      <th>18</th>\n",
       "      <td>0.505378</td>\n",
       "      <td>7.613977</td>\n",
       "    </tr>\n",
       "    <tr>\n",
       "      <th>19</th>\n",
       "      <td>0.375840</td>\n",
       "      <td>4.861027</td>\n",
       "    </tr>\n",
       "    <tr>\n",
       "      <th>20</th>\n",
       "      <td>0.393949</td>\n",
       "      <td>5.530262</td>\n",
       "    </tr>\n",
       "    <tr>\n",
       "      <th>21</th>\n",
       "      <td>0.429005</td>\n",
       "      <td>5.716372</td>\n",
       "    </tr>\n",
       "    <tr>\n",
       "      <th>22</th>\n",
       "      <td>0.290562</td>\n",
       "      <td>4.656641</td>\n",
       "    </tr>\n",
       "    <tr>\n",
       "      <th>23</th>\n",
       "      <td>0.733542</td>\n",
       "      <td>4.502181</td>\n",
       "    </tr>\n",
       "    <tr>\n",
       "      <th>24</th>\n",
       "      <td>0.408935</td>\n",
       "      <td>7.025299</td>\n",
       "    </tr>\n",
       "    <tr>\n",
       "      <th>25</th>\n",
       "      <td>0.302316</td>\n",
       "      <td>5.372463</td>\n",
       "    </tr>\n",
       "    <tr>\n",
       "      <th>26</th>\n",
       "      <td>0.319125</td>\n",
       "      <td>7.618162</td>\n",
       "    </tr>\n",
       "    <tr>\n",
       "      <th>27</th>\n",
       "      <td>0.467690</td>\n",
       "      <td>9.900000</td>\n",
       "    </tr>\n",
       "    <tr>\n",
       "      <th>28</th>\n",
       "      <td>0.287949</td>\n",
       "      <td>4.074112</td>\n",
       "    </tr>\n",
       "    <tr>\n",
       "      <th>29</th>\n",
       "      <td>0.455198</td>\n",
       "      <td>9.900000</td>\n",
       "    </tr>\n",
       "    <tr>\n",
       "      <th>30</th>\n",
       "      <td>0.542132</td>\n",
       "      <td>7.395252</td>\n",
       "    </tr>\n",
       "    <tr>\n",
       "      <th>31</th>\n",
       "      <td>0.278560</td>\n",
       "      <td>6.077314</td>\n",
       "    </tr>\n",
       "    <tr>\n",
       "      <th>32</th>\n",
       "      <td>0.356569</td>\n",
       "      <td>7.815267</td>\n",
       "    </tr>\n",
       "    <tr>\n",
       "      <th>33</th>\n",
       "      <td>0.305391</td>\n",
       "      <td>5.074534</td>\n",
       "    </tr>\n",
       "    <tr>\n",
       "      <th>34</th>\n",
       "      <td>0.522041</td>\n",
       "      <td>5.303453</td>\n",
       "    </tr>\n",
       "    <tr>\n",
       "      <th>35</th>\n",
       "      <td>0.356823</td>\n",
       "      <td>4.234855</td>\n",
       "    </tr>\n",
       "    <tr>\n",
       "      <th>36</th>\n",
       "      <td>0.173675</td>\n",
       "      <td>7.596931</td>\n",
       "    </tr>\n",
       "    <tr>\n",
       "      <th>37</th>\n",
       "      <td>0.296973</td>\n",
       "      <td>6.773616</td>\n",
       "    </tr>\n",
       "    <tr>\n",
       "      <th>38</th>\n",
       "      <td>0.268425</td>\n",
       "      <td>5.558299</td>\n",
       "    </tr>\n",
       "    <tr>\n",
       "      <th>39</th>\n",
       "      <td>0.378079</td>\n",
       "      <td>6.070462</td>\n",
       "    </tr>\n",
       "    <tr>\n",
       "      <th>40</th>\n",
       "      <td>0.223215</td>\n",
       "      <td>6.327221</td>\n",
       "    </tr>\n",
       "    <tr>\n",
       "      <th>41</th>\n",
       "      <td>0.332021</td>\n",
       "      <td>4.488960</td>\n",
       "    </tr>\n",
       "    <tr>\n",
       "      <th>42</th>\n",
       "      <td>0.286299</td>\n",
       "      <td>5.091660</td>\n",
       "    </tr>\n",
       "    <tr>\n",
       "      <th>43</th>\n",
       "      <td>0.290274</td>\n",
       "      <td>8.038366</td>\n",
       "    </tr>\n",
       "    <tr>\n",
       "      <th>44</th>\n",
       "      <td>0.376243</td>\n",
       "      <td>4.561838</td>\n",
       "    </tr>\n",
       "    <tr>\n",
       "      <th>45</th>\n",
       "      <td>0.285886</td>\n",
       "      <td>4.963288</td>\n",
       "    </tr>\n",
       "    <tr>\n",
       "      <th>46</th>\n",
       "      <td>0.306641</td>\n",
       "      <td>5.571612</td>\n",
       "    </tr>\n",
       "    <tr>\n",
       "      <th>47</th>\n",
       "      <td>0.274988</td>\n",
       "      <td>2.061569</td>\n",
       "    </tr>\n",
       "    <tr>\n",
       "      <th>48</th>\n",
       "      <td>0.241530</td>\n",
       "      <td>6.086877</td>\n",
       "    </tr>\n",
       "    <tr>\n",
       "      <th>49</th>\n",
       "      <td>0.545436</td>\n",
       "      <td>4.804495</td>\n",
       "    </tr>\n",
       "  </tbody>\n",
       "</table>\n",
       "</div>"
      ],
      "text/plain": [
       "       alpha      beta\n",
       "0   0.846595  5.439342\n",
       "1   0.850537  4.464722\n",
       "2   0.687437  3.931832\n",
       "3   0.383677  4.644361\n",
       "4   0.327557  6.186691\n",
       "5   0.507898  4.469318\n",
       "6   0.452810  5.034420\n",
       "7   0.448117  8.056620\n",
       "8   0.519191  4.783594\n",
       "9   0.824586  2.443416\n",
       "10  0.549833  2.770521\n",
       "11  0.641638  5.178795\n",
       "12  0.527290  5.276129\n",
       "13  0.525191  3.110686\n",
       "14  0.623644  4.016120\n",
       "15  0.510921  5.518632\n",
       "16  0.591792  4.803531\n",
       "17  0.693039  4.784323\n",
       "18  0.505378  7.613977\n",
       "19  0.375840  4.861027\n",
       "20  0.393949  5.530262\n",
       "21  0.429005  5.716372\n",
       "22  0.290562  4.656641\n",
       "23  0.733542  4.502181\n",
       "24  0.408935  7.025299\n",
       "25  0.302316  5.372463\n",
       "26  0.319125  7.618162\n",
       "27  0.467690  9.900000\n",
       "28  0.287949  4.074112\n",
       "29  0.455198  9.900000\n",
       "30  0.542132  7.395252\n",
       "31  0.278560  6.077314\n",
       "32  0.356569  7.815267\n",
       "33  0.305391  5.074534\n",
       "34  0.522041  5.303453\n",
       "35  0.356823  4.234855\n",
       "36  0.173675  7.596931\n",
       "37  0.296973  6.773616\n",
       "38  0.268425  5.558299\n",
       "39  0.378079  6.070462\n",
       "40  0.223215  6.327221\n",
       "41  0.332021  4.488960\n",
       "42  0.286299  5.091660\n",
       "43  0.290274  8.038366\n",
       "44  0.376243  4.561838\n",
       "45  0.285886  4.963288\n",
       "46  0.306641  5.571612\n",
       "47  0.274988  2.061569\n",
       "48  0.241530  6.086877\n",
       "49  0.545436  4.804495"
      ]
     },
     "execution_count": 63,
     "metadata": {},
     "output_type": "execute_result"
    }
   ],
   "source": [
    "params_h = {\n",
    "    \"alpha\": [],\n",
    "    \"beta\": [],\n",
    "}\n",
    "\n",
    "for i in range(50):\n",
    "    opt_min = optimize.minimize(NLL_h, [0.4, 7, 0.5], \n",
    "                                args=(i, ), \n",
    "                                bounds=[(0, 1), (0.1, 9.9), (0, 1)], \n",
    "                                method='Nelder-Mead')\n",
    "    \n",
    "    params_h[\"alpha\"].append(opt_min.x[0])\n",
    "    params_h[\"beta\"].append(opt_min.x[1])\n",
    "    \n",
    "df_h = pd.DataFrame(params_h)\n",
    "\n",
    "df_h"
   ]
  },
  {
   "cell_type": "code",
   "execution_count": 64,
   "metadata": {},
   "outputs": [
    {
     "data": {
      "image/png": "[encoded data removed]",
      "text/plain": [
       "<Figure size 640x480 with 1 Axes>"
      ]
     },
     "metadata": {},
     "output_type": "display_data"
    }
   ],
   "source": [
    "import matplotlib.pyplot as plt\n",
    "\n",
    "plt.scatter(range(0, 25), df_h['alpha'].iloc[0: 25], color='red', label='anxious')\n",
    "plt.scatter(range(25, 50), df_h['alpha'].iloc[25: 50], color='blue', label='calm')\n",
    "plt.xlabel('Participant Index')\n",
    "plt.ylabel('Learning Rate')\n",
    "plt.legend()\n",
    "plt.show()"
   ]
  },
  {
   "cell_type": "code",
   "execution_count": 65,
   "metadata": {},
   "outputs": [
    {
     "data": {
      "image/png": "[encoded data removed]",
      "text/plain": [
       "<Figure size 640x480 with 1 Axes>"
      ]
     },
     "metadata": {},
     "output_type": "display_data"
    }
   ],
   "source": [
    "import matplotlib.pyplot as plt\n",
    "\n",
    "plt.scatter(range(0, 25), df_h['beta'].iloc[0: 25], color='red', label='anxious')\n",
    "plt.scatter(range(25, 50), df_h['beta'].iloc[25: 50], color='blue', label='calm')\n",
    "plt.xlabel('Participant Index')\n",
    "plt.ylabel('Inverse Temperature')\n",
    "plt.legend()\n",
    "plt.show()"
   ]
  },
  {
   "cell_type": "code",
   "execution_count": null,
   "metadata": {},
   "outputs": [],
   "source": []
  }
 ],
 "metadata": {
  "kernelspec": {
   "display_name": "Python 3 (ipykernel)",
   "language": "python",
   "name": "python3"
  },
  "language_info": {
   "codemirror_mode": {
    "name": "ipython",
    "version": 3
   },
   "file_extension": ".py",
   "mimetype": "text/x-python",
   "name": "python",
   "nbconvert_exporter": "python",
   "pygments_lexer": "ipython3",
   "version": "3.10.10"
  }
 },
 "nbformat": 4,
 "nbformat_minor": 1
}
